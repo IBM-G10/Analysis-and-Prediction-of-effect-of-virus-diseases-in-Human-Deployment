{
 "metadata": {
  "language_info": {
   "codemirror_mode": {
    "name": "ipython",
    "version": 3
   },
   "file_extension": ".py",
   "mimetype": "text/x-python",
   "name": "python",
   "nbconvert_exporter": "python",
   "pygments_lexer": "ipython3",
   "version": "3.8.3-final"
  },
  "orig_nbformat": 2,
  "kernelspec": {
   "name": "Python 3.8.3 64-bit",
   "display_name": "Python 3.8.3 64-bit",
   "metadata": {
    "interpreter": {
     "hash": "9534f7205831259211f90c750ace1cb8546a7bdd89066ef865c9c4a2d1d72141"
    }
   }
  }
 },
 "nbformat": 4,
 "nbformat_minor": 2,
 "cells": [
  {
   "cell_type": "code",
   "execution_count": 4,
   "metadata": {},
   "outputs": [],
   "source": [
    "import os\n",
    "import pandas as pd\n",
    "import numpy as np\n",
    "import matplotlib.pyplot as plt\n",
    "import plotly.express as px\n",
    "import seaborn as sns\n"
   ]
  },
  {
   "cell_type": "code",
   "execution_count": 26,
   "metadata": {},
   "outputs": [
    {
     "output_type": "execute_result",
     "data": {
      "text/plain": [
       "True"
      ]
     },
     "metadata": {},
     "execution_count": 26
    }
   ],
   "source": [
    "os.path.exists(r'E:\\Training Second Year\\infectious-diseases-by-county-year-and-sex.csv')"
   ]
  },
  {
   "cell_type": "code",
   "execution_count": 27,
   "metadata": {},
   "outputs": [
    {
     "output_type": "execute_result",
     "data": {
      "text/plain": [
       "                         Disease   County  Year     Sex  Cases  Population  \\\n",
       "0                      Amebiasis  ALAMEDA  2001  FEMALE    7.0      746596   \n",
       "1                      Amebiasis  ALAMEDA  2001    MALE    9.0      718968   \n",
       "2                      Amebiasis  ALAMEDA  2001   TOTAL   16.0     1465564   \n",
       "3  Anaplasmosis and Ehrlichiosis  ALAMEDA  2001  FEMALE    0.0      746596   \n",
       "4  Anaplasmosis and Ehrlichiosis  ALAMEDA  2001    MALE    0.0      718968   \n",
       "\n",
       "   Lower 95% CI  Upper 95% CI    Rate  \n",
       "0         0.377         1.932  0.938*  \n",
       "1         0.572         2.376  1.252*  \n",
       "2         0.624         1.773  1.092*  \n",
       "3         0.000         0.494       -  \n",
       "4         0.000         0.513       -  "
      ],
      "text/html": "<div>\n<style scoped>\n    .dataframe tbody tr th:only-of-type {\n        vertical-align: middle;\n    }\n\n    .dataframe tbody tr th {\n        vertical-align: top;\n    }\n\n    .dataframe thead th {\n        text-align: right;\n    }\n</style>\n<table border=\"1\" class=\"dataframe\">\n  <thead>\n    <tr style=\"text-align: right;\">\n      <th></th>\n      <th>Disease</th>\n      <th>County</th>\n      <th>Year</th>\n      <th>Sex</th>\n      <th>Cases</th>\n      <th>Population</th>\n      <th>Lower 95% CI</th>\n      <th>Upper 95% CI</th>\n      <th>Rate</th>\n    </tr>\n  </thead>\n  <tbody>\n    <tr>\n      <th>0</th>\n      <td>Amebiasis</td>\n      <td>ALAMEDA</td>\n      <td>2001</td>\n      <td>FEMALE</td>\n      <td>7.0</td>\n      <td>746596</td>\n      <td>0.377</td>\n      <td>1.932</td>\n      <td>0.938*</td>\n    </tr>\n    <tr>\n      <th>1</th>\n      <td>Amebiasis</td>\n      <td>ALAMEDA</td>\n      <td>2001</td>\n      <td>MALE</td>\n      <td>9.0</td>\n      <td>718968</td>\n      <td>0.572</td>\n      <td>2.376</td>\n      <td>1.252*</td>\n    </tr>\n    <tr>\n      <th>2</th>\n      <td>Amebiasis</td>\n      <td>ALAMEDA</td>\n      <td>2001</td>\n      <td>TOTAL</td>\n      <td>16.0</td>\n      <td>1465564</td>\n      <td>0.624</td>\n      <td>1.773</td>\n      <td>1.092*</td>\n    </tr>\n    <tr>\n      <th>3</th>\n      <td>Anaplasmosis and Ehrlichiosis</td>\n      <td>ALAMEDA</td>\n      <td>2001</td>\n      <td>FEMALE</td>\n      <td>0.0</td>\n      <td>746596</td>\n      <td>0.000</td>\n      <td>0.494</td>\n      <td>-</td>\n    </tr>\n    <tr>\n      <th>4</th>\n      <td>Anaplasmosis and Ehrlichiosis</td>\n      <td>ALAMEDA</td>\n      <td>2001</td>\n      <td>MALE</td>\n      <td>0.0</td>\n      <td>718968</td>\n      <td>0.000</td>\n      <td>0.513</td>\n      <td>-</td>\n    </tr>\n  </tbody>\n</table>\n</div>"
     },
     "metadata": {},
     "execution_count": 27
    }
   ],
   "source": [
    "df = pd.read_csv(r'E:\\Training Second Year\\infectious-diseases-by-county-year-and-sex.csv')\n",
    "df.head()"
   ]
  },
  {
   "cell_type": "code",
   "execution_count": 28,
   "metadata": {},
   "outputs": [
    {
     "output_type": "execute_result",
     "data": {
      "text/plain": [
       "                Disease   County  Year     Sex  Cases  Population  \\\n",
       "10           Babesiosis  ALAMEDA  2001    MALE    0.0      718968   \n",
       "11           Babesiosis  ALAMEDA  2001   TOTAL    0.0     1465564   \n",
       "12  Botulism, Foodborne  ALAMEDA  2001  FEMALE    0.0      746596   \n",
       "13  Botulism, Foodborne  ALAMEDA  2001    MALE    0.0      718968   \n",
       "14  Botulism, Foodborne  ALAMEDA  2001   TOTAL    0.0     1465564   \n",
       "15      Botulism, Other  ALAMEDA  2001  FEMALE    0.0      746596   \n",
       "16      Botulism, Other  ALAMEDA  2001    MALE    0.0      718968   \n",
       "17      Botulism, Other  ALAMEDA  2001   TOTAL    0.0     1465564   \n",
       "18      Botulism, Wound  ALAMEDA  2001  FEMALE    0.0      746596   \n",
       "19      Botulism, Wound  ALAMEDA  2001    MALE    0.0      718968   \n",
       "20      Botulism, Wound  ALAMEDA  2001   TOTAL    0.0     1465564   \n",
       "\n",
       "    Lower 95% CI  Upper 95% CI Rate  \n",
       "10           0.0         0.513    -  \n",
       "11           0.0         0.252    -  \n",
       "12           0.0         0.494    -  \n",
       "13           0.0         0.513    -  \n",
       "14           0.0         0.252    -  \n",
       "15           0.0         0.494    -  \n",
       "16           0.0         0.513    -  \n",
       "17           0.0         0.252    -  \n",
       "18           0.0         0.494    -  \n",
       "19           0.0         0.513    -  \n",
       "20           0.0         0.252    -  "
      ],
      "text/html": "<div>\n<style scoped>\n    .dataframe tbody tr th:only-of-type {\n        vertical-align: middle;\n    }\n\n    .dataframe tbody tr th {\n        vertical-align: top;\n    }\n\n    .dataframe thead th {\n        text-align: right;\n    }\n</style>\n<table border=\"1\" class=\"dataframe\">\n  <thead>\n    <tr style=\"text-align: right;\">\n      <th></th>\n      <th>Disease</th>\n      <th>County</th>\n      <th>Year</th>\n      <th>Sex</th>\n      <th>Cases</th>\n      <th>Population</th>\n      <th>Lower 95% CI</th>\n      <th>Upper 95% CI</th>\n      <th>Rate</th>\n    </tr>\n  </thead>\n  <tbody>\n    <tr>\n      <th>10</th>\n      <td>Babesiosis</td>\n      <td>ALAMEDA</td>\n      <td>2001</td>\n      <td>MALE</td>\n      <td>0.0</td>\n      <td>718968</td>\n      <td>0.0</td>\n      <td>0.513</td>\n      <td>-</td>\n    </tr>\n    <tr>\n      <th>11</th>\n      <td>Babesiosis</td>\n      <td>ALAMEDA</td>\n      <td>2001</td>\n      <td>TOTAL</td>\n      <td>0.0</td>\n      <td>1465564</td>\n      <td>0.0</td>\n      <td>0.252</td>\n      <td>-</td>\n    </tr>\n    <tr>\n      <th>12</th>\n      <td>Botulism, Foodborne</td>\n      <td>ALAMEDA</td>\n      <td>2001</td>\n      <td>FEMALE</td>\n      <td>0.0</td>\n      <td>746596</td>\n      <td>0.0</td>\n      <td>0.494</td>\n      <td>-</td>\n    </tr>\n    <tr>\n      <th>13</th>\n      <td>Botulism, Foodborne</td>\n      <td>ALAMEDA</td>\n      <td>2001</td>\n      <td>MALE</td>\n      <td>0.0</td>\n      <td>718968</td>\n      <td>0.0</td>\n      <td>0.513</td>\n      <td>-</td>\n    </tr>\n    <tr>\n      <th>14</th>\n      <td>Botulism, Foodborne</td>\n      <td>ALAMEDA</td>\n      <td>2001</td>\n      <td>TOTAL</td>\n      <td>0.0</td>\n      <td>1465564</td>\n      <td>0.0</td>\n      <td>0.252</td>\n      <td>-</td>\n    </tr>\n    <tr>\n      <th>15</th>\n      <td>Botulism, Other</td>\n      <td>ALAMEDA</td>\n      <td>2001</td>\n      <td>FEMALE</td>\n      <td>0.0</td>\n      <td>746596</td>\n      <td>0.0</td>\n      <td>0.494</td>\n      <td>-</td>\n    </tr>\n    <tr>\n      <th>16</th>\n      <td>Botulism, Other</td>\n      <td>ALAMEDA</td>\n      <td>2001</td>\n      <td>MALE</td>\n      <td>0.0</td>\n      <td>718968</td>\n      <td>0.0</td>\n      <td>0.513</td>\n      <td>-</td>\n    </tr>\n    <tr>\n      <th>17</th>\n      <td>Botulism, Other</td>\n      <td>ALAMEDA</td>\n      <td>2001</td>\n      <td>TOTAL</td>\n      <td>0.0</td>\n      <td>1465564</td>\n      <td>0.0</td>\n      <td>0.252</td>\n      <td>-</td>\n    </tr>\n    <tr>\n      <th>18</th>\n      <td>Botulism, Wound</td>\n      <td>ALAMEDA</td>\n      <td>2001</td>\n      <td>FEMALE</td>\n      <td>0.0</td>\n      <td>746596</td>\n      <td>0.0</td>\n      <td>0.494</td>\n      <td>-</td>\n    </tr>\n    <tr>\n      <th>19</th>\n      <td>Botulism, Wound</td>\n      <td>ALAMEDA</td>\n      <td>2001</td>\n      <td>MALE</td>\n      <td>0.0</td>\n      <td>718968</td>\n      <td>0.0</td>\n      <td>0.513</td>\n      <td>-</td>\n    </tr>\n    <tr>\n      <th>20</th>\n      <td>Botulism, Wound</td>\n      <td>ALAMEDA</td>\n      <td>2001</td>\n      <td>TOTAL</td>\n      <td>0.0</td>\n      <td>1465564</td>\n      <td>0.0</td>\n      <td>0.252</td>\n      <td>-</td>\n    </tr>\n  </tbody>\n</table>\n</div>"
     },
     "metadata": {},
     "execution_count": 28
    }
   ],
   "source": [
    "df.iloc[10:21]"
   ]
  },
  {
   "cell_type": "code",
   "execution_count": 29,
   "metadata": {},
   "outputs": [
    {
     "output_type": "execute_result",
     "data": {
      "text/plain": [
       "                Year          Cases    Population   Lower 95% CI  \\\n",
       "count  154344.000000  150602.000000  1.543440e+05  150083.000000   \n",
       "mean     2009.788991      10.324677  8.449279e+05       0.667443   \n",
       "std         5.190337     137.911319  3.514416e+06       5.286432   \n",
       "min      2001.000000       0.000000  5.630000e+02       0.000000   \n",
       "25%      2005.000000       0.000000  2.920500e+04       0.000000   \n",
       "50%      2010.000000       0.000000  1.251840e+05       0.000000   \n",
       "75%      2014.000000       0.000000  4.199700e+05       0.000000   \n",
       "max      2018.000000    9488.000000  3.982518e+07     344.974000   \n",
       "\n",
       "        Upper 95% CI  \n",
       "count  150083.000000  \n",
       "mean       22.024867  \n",
       "std        73.936024  \n",
       "min         0.009000  \n",
       "25%         1.241000  \n",
       "50%         4.080000  \n",
       "75%        14.257000  \n",
       "max       653.077000  "
      ],
      "text/html": "<div>\n<style scoped>\n    .dataframe tbody tr th:only-of-type {\n        vertical-align: middle;\n    }\n\n    .dataframe tbody tr th {\n        vertical-align: top;\n    }\n\n    .dataframe thead th {\n        text-align: right;\n    }\n</style>\n<table border=\"1\" class=\"dataframe\">\n  <thead>\n    <tr style=\"text-align: right;\">\n      <th></th>\n      <th>Year</th>\n      <th>Cases</th>\n      <th>Population</th>\n      <th>Lower 95% CI</th>\n      <th>Upper 95% CI</th>\n    </tr>\n  </thead>\n  <tbody>\n    <tr>\n      <th>count</th>\n      <td>154344.000000</td>\n      <td>150602.000000</td>\n      <td>1.543440e+05</td>\n      <td>150083.000000</td>\n      <td>150083.000000</td>\n    </tr>\n    <tr>\n      <th>mean</th>\n      <td>2009.788991</td>\n      <td>10.324677</td>\n      <td>8.449279e+05</td>\n      <td>0.667443</td>\n      <td>22.024867</td>\n    </tr>\n    <tr>\n      <th>std</th>\n      <td>5.190337</td>\n      <td>137.911319</td>\n      <td>3.514416e+06</td>\n      <td>5.286432</td>\n      <td>73.936024</td>\n    </tr>\n    <tr>\n      <th>min</th>\n      <td>2001.000000</td>\n      <td>0.000000</td>\n      <td>5.630000e+02</td>\n      <td>0.000000</td>\n      <td>0.009000</td>\n    </tr>\n    <tr>\n      <th>25%</th>\n      <td>2005.000000</td>\n      <td>0.000000</td>\n      <td>2.920500e+04</td>\n      <td>0.000000</td>\n      <td>1.241000</td>\n    </tr>\n    <tr>\n      <th>50%</th>\n      <td>2010.000000</td>\n      <td>0.000000</td>\n      <td>1.251840e+05</td>\n      <td>0.000000</td>\n      <td>4.080000</td>\n    </tr>\n    <tr>\n      <th>75%</th>\n      <td>2014.000000</td>\n      <td>0.000000</td>\n      <td>4.199700e+05</td>\n      <td>0.000000</td>\n      <td>14.257000</td>\n    </tr>\n    <tr>\n      <th>max</th>\n      <td>2018.000000</td>\n      <td>9488.000000</td>\n      <td>3.982518e+07</td>\n      <td>344.974000</td>\n      <td>653.077000</td>\n    </tr>\n  </tbody>\n</table>\n</div>"
     },
     "metadata": {},
     "execution_count": 29
    }
   ],
   "source": [
    "df.describe()"
   ]
  },
  {
   "cell_type": "code",
   "execution_count": 30,
   "metadata": {},
   "outputs": [
    {
     "output_type": "execute_result",
     "data": {
      "text/plain": [
       "                              Disease   County  Year     Sex  Cases  \\\n",
       "0                           Amebiasis  ALAMEDA  2001  FEMALE    7.0   \n",
       "1                           Amebiasis  ALAMEDA  2001    MALE    9.0   \n",
       "2                           Amebiasis  ALAMEDA  2001   TOTAL   16.0   \n",
       "3       Anaplasmosis and Ehrlichiosis  ALAMEDA  2001  FEMALE    0.0   \n",
       "4       Anaplasmosis and Ehrlichiosis  ALAMEDA  2001    MALE    0.0   \n",
       "...                               ...      ...   ...     ...    ...   \n",
       "154339                    Yersiniosis     YUBA  2018    MALE    0.0   \n",
       "154340                    Yersiniosis     YUBA  2018   TOTAL    0.0   \n",
       "154341           Zika Virus Infection     YUBA  2018  FEMALE    0.0   \n",
       "154342           Zika Virus Infection     YUBA  2018    MALE    0.0   \n",
       "154343           Zika Virus Infection     YUBA  2018   TOTAL    0.0   \n",
       "\n",
       "        Population  Lower 95% CI  Upper 95% CI    Rate  \n",
       "0           746596         0.377         1.932  0.938*  \n",
       "1           718968         0.572         2.376  1.252*  \n",
       "2          1465564         0.624         1.773  1.092*  \n",
       "3           746596         0.000         0.494       -  \n",
       "4           718968         0.000         0.513       -  \n",
       "...            ...           ...           ...     ...  \n",
       "154339       38838         0.000         9.498       -  \n",
       "154340       77494         0.000         4.760       -  \n",
       "154341       38656         0.000         9.542       -  \n",
       "154342       38838         0.000         9.498       -  \n",
       "154343       77494         0.000         4.760       -  \n",
       "\n",
       "[154344 rows x 9 columns]"
      ],
      "text/html": "<div>\n<style scoped>\n    .dataframe tbody tr th:only-of-type {\n        vertical-align: middle;\n    }\n\n    .dataframe tbody tr th {\n        vertical-align: top;\n    }\n\n    .dataframe thead th {\n        text-align: right;\n    }\n</style>\n<table border=\"1\" class=\"dataframe\">\n  <thead>\n    <tr style=\"text-align: right;\">\n      <th></th>\n      <th>Disease</th>\n      <th>County</th>\n      <th>Year</th>\n      <th>Sex</th>\n      <th>Cases</th>\n      <th>Population</th>\n      <th>Lower 95% CI</th>\n      <th>Upper 95% CI</th>\n      <th>Rate</th>\n    </tr>\n  </thead>\n  <tbody>\n    <tr>\n      <th>0</th>\n      <td>Amebiasis</td>\n      <td>ALAMEDA</td>\n      <td>2001</td>\n      <td>FEMALE</td>\n      <td>7.0</td>\n      <td>746596</td>\n      <td>0.377</td>\n      <td>1.932</td>\n      <td>0.938*</td>\n    </tr>\n    <tr>\n      <th>1</th>\n      <td>Amebiasis</td>\n      <td>ALAMEDA</td>\n      <td>2001</td>\n      <td>MALE</td>\n      <td>9.0</td>\n      <td>718968</td>\n      <td>0.572</td>\n      <td>2.376</td>\n      <td>1.252*</td>\n    </tr>\n    <tr>\n      <th>2</th>\n      <td>Amebiasis</td>\n      <td>ALAMEDA</td>\n      <td>2001</td>\n      <td>TOTAL</td>\n      <td>16.0</td>\n      <td>1465564</td>\n      <td>0.624</td>\n      <td>1.773</td>\n      <td>1.092*</td>\n    </tr>\n    <tr>\n      <th>3</th>\n      <td>Anaplasmosis and Ehrlichiosis</td>\n      <td>ALAMEDA</td>\n      <td>2001</td>\n      <td>FEMALE</td>\n      <td>0.0</td>\n      <td>746596</td>\n      <td>0.000</td>\n      <td>0.494</td>\n      <td>-</td>\n    </tr>\n    <tr>\n      <th>4</th>\n      <td>Anaplasmosis and Ehrlichiosis</td>\n      <td>ALAMEDA</td>\n      <td>2001</td>\n      <td>MALE</td>\n      <td>0.0</td>\n      <td>718968</td>\n      <td>0.000</td>\n      <td>0.513</td>\n      <td>-</td>\n    </tr>\n    <tr>\n      <th>...</th>\n      <td>...</td>\n      <td>...</td>\n      <td>...</td>\n      <td>...</td>\n      <td>...</td>\n      <td>...</td>\n      <td>...</td>\n      <td>...</td>\n      <td>...</td>\n    </tr>\n    <tr>\n      <th>154339</th>\n      <td>Yersiniosis</td>\n      <td>YUBA</td>\n      <td>2018</td>\n      <td>MALE</td>\n      <td>0.0</td>\n      <td>38838</td>\n      <td>0.000</td>\n      <td>9.498</td>\n      <td>-</td>\n    </tr>\n    <tr>\n      <th>154340</th>\n      <td>Yersiniosis</td>\n      <td>YUBA</td>\n      <td>2018</td>\n      <td>TOTAL</td>\n      <td>0.0</td>\n      <td>77494</td>\n      <td>0.000</td>\n      <td>4.760</td>\n      <td>-</td>\n    </tr>\n    <tr>\n      <th>154341</th>\n      <td>Zika Virus Infection</td>\n      <td>YUBA</td>\n      <td>2018</td>\n      <td>FEMALE</td>\n      <td>0.0</td>\n      <td>38656</td>\n      <td>0.000</td>\n      <td>9.542</td>\n      <td>-</td>\n    </tr>\n    <tr>\n      <th>154342</th>\n      <td>Zika Virus Infection</td>\n      <td>YUBA</td>\n      <td>2018</td>\n      <td>MALE</td>\n      <td>0.0</td>\n      <td>38838</td>\n      <td>0.000</td>\n      <td>9.498</td>\n      <td>-</td>\n    </tr>\n    <tr>\n      <th>154343</th>\n      <td>Zika Virus Infection</td>\n      <td>YUBA</td>\n      <td>2018</td>\n      <td>TOTAL</td>\n      <td>0.0</td>\n      <td>77494</td>\n      <td>0.000</td>\n      <td>4.760</td>\n      <td>-</td>\n    </tr>\n  </tbody>\n</table>\n<p>154344 rows × 9 columns</p>\n</div>"
     },
     "metadata": {},
     "execution_count": 30
    }
   ],
   "source": [
    "df.rename(columns={'Unnamed: 0':'model'},inplace=True)\n",
    "df"
   ]
  },
  {
   "cell_type": "code",
   "execution_count": 31,
   "metadata": {},
   "outputs": [
    {
     "output_type": "execute_result",
     "data": {
      "text/plain": [
       "Disease          object\n",
       "County           object\n",
       "Year              int64\n",
       "Sex              object\n",
       "Cases           float64\n",
       "Population        int64\n",
       "Lower 95% CI    float64\n",
       "Upper 95% CI    float64\n",
       "Rate             object\n",
       "dtype: object"
      ]
     },
     "metadata": {},
     "execution_count": 31
    }
   ],
   "source": [
    "df.dtypes"
   ]
  },
  {
   "cell_type": "code",
   "execution_count": 32,
   "metadata": {},
   "outputs": [
    {
     "output_type": "execute_result",
     "data": {
      "text/plain": [
       "                              Disease   County  Year     Sex  Cases\n",
       "0                           Amebiasis  ALAMEDA  2001  FEMALE    7.0\n",
       "1                           Amebiasis  ALAMEDA  2001    MALE    9.0\n",
       "2                           Amebiasis  ALAMEDA  2001   TOTAL   16.0\n",
       "3       Anaplasmosis and Ehrlichiosis  ALAMEDA  2001  FEMALE    0.0\n",
       "4       Anaplasmosis and Ehrlichiosis  ALAMEDA  2001    MALE    0.0\n",
       "...                               ...      ...   ...     ...    ...\n",
       "154339                    Yersiniosis     YUBA  2018    MALE    0.0\n",
       "154340                    Yersiniosis     YUBA  2018   TOTAL    0.0\n",
       "154341           Zika Virus Infection     YUBA  2018  FEMALE    0.0\n",
       "154342           Zika Virus Infection     YUBA  2018    MALE    0.0\n",
       "154343           Zika Virus Infection     YUBA  2018   TOTAL    0.0\n",
       "\n",
       "[154344 rows x 5 columns]"
      ],
      "text/html": "<div>\n<style scoped>\n    .dataframe tbody tr th:only-of-type {\n        vertical-align: middle;\n    }\n\n    .dataframe tbody tr th {\n        vertical-align: top;\n    }\n\n    .dataframe thead th {\n        text-align: right;\n    }\n</style>\n<table border=\"1\" class=\"dataframe\">\n  <thead>\n    <tr style=\"text-align: right;\">\n      <th></th>\n      <th>Disease</th>\n      <th>County</th>\n      <th>Year</th>\n      <th>Sex</th>\n      <th>Cases</th>\n    </tr>\n  </thead>\n  <tbody>\n    <tr>\n      <th>0</th>\n      <td>Amebiasis</td>\n      <td>ALAMEDA</td>\n      <td>2001</td>\n      <td>FEMALE</td>\n      <td>7.0</td>\n    </tr>\n    <tr>\n      <th>1</th>\n      <td>Amebiasis</td>\n      <td>ALAMEDA</td>\n      <td>2001</td>\n      <td>MALE</td>\n      <td>9.0</td>\n    </tr>\n    <tr>\n      <th>2</th>\n      <td>Amebiasis</td>\n      <td>ALAMEDA</td>\n      <td>2001</td>\n      <td>TOTAL</td>\n      <td>16.0</td>\n    </tr>\n    <tr>\n      <th>3</th>\n      <td>Anaplasmosis and Ehrlichiosis</td>\n      <td>ALAMEDA</td>\n      <td>2001</td>\n      <td>FEMALE</td>\n      <td>0.0</td>\n    </tr>\n    <tr>\n      <th>4</th>\n      <td>Anaplasmosis and Ehrlichiosis</td>\n      <td>ALAMEDA</td>\n      <td>2001</td>\n      <td>MALE</td>\n      <td>0.0</td>\n    </tr>\n    <tr>\n      <th>...</th>\n      <td>...</td>\n      <td>...</td>\n      <td>...</td>\n      <td>...</td>\n      <td>...</td>\n    </tr>\n    <tr>\n      <th>154339</th>\n      <td>Yersiniosis</td>\n      <td>YUBA</td>\n      <td>2018</td>\n      <td>MALE</td>\n      <td>0.0</td>\n    </tr>\n    <tr>\n      <th>154340</th>\n      <td>Yersiniosis</td>\n      <td>YUBA</td>\n      <td>2018</td>\n      <td>TOTAL</td>\n      <td>0.0</td>\n    </tr>\n    <tr>\n      <th>154341</th>\n      <td>Zika Virus Infection</td>\n      <td>YUBA</td>\n      <td>2018</td>\n      <td>FEMALE</td>\n      <td>0.0</td>\n    </tr>\n    <tr>\n      <th>154342</th>\n      <td>Zika Virus Infection</td>\n      <td>YUBA</td>\n      <td>2018</td>\n      <td>MALE</td>\n      <td>0.0</td>\n    </tr>\n    <tr>\n      <th>154343</th>\n      <td>Zika Virus Infection</td>\n      <td>YUBA</td>\n      <td>2018</td>\n      <td>TOTAL</td>\n      <td>0.0</td>\n    </tr>\n  </tbody>\n</table>\n<p>154344 rows × 5 columns</p>\n</div>"
     },
     "metadata": {},
     "execution_count": 32
    }
   ],
   "source": [
    "df.iloc[:,:5]"
   ]
  },
  {
   "cell_type": "code",
   "execution_count": 33,
   "metadata": {},
   "outputs": [],
   "source": [
    "df.replace('?',np.nan, inplace=True)"
   ]
  },
  {
   "cell_type": "code",
   "execution_count": 34,
   "metadata": {},
   "outputs": [
    {
     "output_type": "execute_result",
     "data": {
      "text/plain": [
       "Disease            0\n",
       "County             0\n",
       "Year               0\n",
       "Sex                0\n",
       "Cases           3742\n",
       "Population         0\n",
       "Lower 95% CI    4261\n",
       "Upper 95% CI    4261\n",
       "Rate               0\n",
       "dtype: int64"
      ]
     },
     "metadata": {},
     "execution_count": 34
    }
   ],
   "source": [
    "df.isnull().sum()"
   ]
  },
  {
   "cell_type": "code",
   "execution_count": 35,
   "metadata": {},
   "outputs": [],
   "source": [
    "from sklearn.impute import SimpleImputer"
   ]
  },
  {
   "cell_type": "code",
   "execution_count": 36,
   "metadata": {},
   "outputs": [
    {
     "output_type": "execute_result",
     "data": {
      "text/plain": [
       "0          7.0\n",
       "1          9.0\n",
       "2         16.0\n",
       "3          0.0\n",
       "4          0.0\n",
       "          ... \n",
       "154339     0.0\n",
       "154340     0.0\n",
       "154341     0.0\n",
       "154342     0.0\n",
       "154343     0.0\n",
       "Name: Cases, Length: 154344, dtype: float64"
      ]
     },
     "metadata": {},
     "execution_count": 36
    }
   ],
   "source": [
    "df['Cases']"
   ]
  },
  {
   "cell_type": "code",
   "execution_count": 37,
   "metadata": {},
   "outputs": [
    {
     "output_type": "execute_result",
     "data": {
      "text/plain": [
       "0.0       118959\n",
       "1.0         9247\n",
       "2.0         3987\n",
       "3.0         2421\n",
       "4.0         1562\n",
       "           ...  \n",
       "393.0          1\n",
       "322.0          1\n",
       "2572.0         1\n",
       "1285.0         1\n",
       "1775.0         1\n",
       "Name: Cases, Length: 865, dtype: int64"
      ]
     },
     "metadata": {},
     "execution_count": 37
    }
   ],
   "source": [
    "\n",
    "df['Cases'].value_counts()"
   ]
  },
  {
   "cell_type": "code",
   "execution_count": 39,
   "metadata": {},
   "outputs": [
    {
     "output_type": "execute_result",
     "data": {
      "text/plain": [
       "array([[ 7.],\n",
       "       [ 9.],\n",
       "       [16.],\n",
       "       ...,\n",
       "       [ 0.],\n",
       "       [ 0.],\n",
       "       [ 0.]])"
      ]
     },
     "metadata": {},
     "execution_count": 39
    }
   ],
   "source": [
    "cases_imputer = SimpleImputer(strategy='most_frequent')\n",
    "cases_imputer.fit_transform(df[['Cases']])"
   ]
  },
  {
   "cell_type": "code",
   "execution_count": 44,
   "metadata": {},
   "outputs": [],
   "source": [
    "from sklearn.preprocessing import LabelEncoder,OneHotEncoder"
   ]
  },
  {
   "cell_type": "code",
   "execution_count": 45,
   "metadata": {},
   "outputs": [],
   "source": [
    "happy_lbl_encoder = LabelEncoder()\n",
    "df['Sex'] = happy_lbl_encoder.fit_transform(df['Sex'])"
   ]
  },
  {
   "cell_type": "code",
   "execution_count": 48,
   "metadata": {},
   "outputs": [],
   "source": [
    "\n",
    "country_hot_encoder = OneHotEncoder()\n",
    "encoded_country_data = country_hot_encoder.fit_transform(df[['Year']]).toarray()"
   ]
  },
  {
   "cell_type": "code",
   "execution_count": 49,
   "metadata": {},
   "outputs": [
    {
     "output_type": "execute_result",
     "data": {
      "text/plain": [
       "array([[1., 0., 0., ..., 0., 0., 0.],\n",
       "       [1., 0., 0., ..., 0., 0., 0.],\n",
       "       [1., 0., 0., ..., 0., 0., 0.],\n",
       "       ...,\n",
       "       [0., 0., 0., ..., 0., 0., 1.],\n",
       "       [0., 0., 0., ..., 0., 0., 1.],\n",
       "       [0., 0., 0., ..., 0., 0., 1.]])"
      ]
     },
     "metadata": {},
     "execution_count": 49
    }
   ],
   "source": [
    "encoded_country_data\n"
   ]
  },
  {
   "cell_type": "code",
   "execution_count": 50,
   "metadata": {},
   "outputs": [
    {
     "output_type": "execute_result",
     "data": {
      "text/plain": [
       "[array([2001, 2002, 2003, 2004, 2005, 2006, 2007, 2008, 2009, 2010, 2011,\n",
       "        2012, 2013, 2014, 2015, 2016, 2017, 2018], dtype=int64)]"
      ]
     },
     "metadata": {},
     "execution_count": 50
    }
   ],
   "source": [
    "country_hot_encoder.categories_"
   ]
  },
  {
   "cell_type": "code",
   "execution_count": null,
   "metadata": {},
   "outputs": [],
   "source": []
  }
 ]
}